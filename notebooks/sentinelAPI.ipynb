{
 "cells": [
  {
   "cell_type": "code",
   "execution_count": 187,
   "id": "db299ac1-bf72-4bbf-945f-537574497743",
   "metadata": {
    "tags": []
   },
   "outputs": [
    {
     "name": "stdout",
     "output_type": "stream",
     "text": [
      "<Response [200]>\n"
     ]
    }
   ],
   "source": [
    "#sentinel API\n",
    "import requests\n",
    "#LatLng = ('37.30488,01.85034') # Ngurunit\n",
    "#LatLng = ('37.898626114941905,2.27305876687853') # near Marsabit\n",
    "footprint = 'POLYGON((37.32548632535571 1.8491098129258177,38.06615104713074 1.8491098129258177,38.06615104713074 2.582527953220037,37.32548632535571 2.582527953220037,37.32548632535571 1.8491098129258177))'\n",
    "#prodType = 'SLC'\n",
    "prodType = 'S2MSI2A' #,S2MSI1C, S2MS2Ap\n",
    "\n",
    "API = 'https://scihub.copernicus.eu/dhus/search?q=ingestiondate:[NOW-2DAY%20TO%20NOW]%20AND%20producttype:'+prodType+'%20AND%20footprint:\"Intersects('+footprint+')\"&%20rows=100&start=0&format=json'\n",
    "\n",
    "from requests.auth import HTTPBasicAuth\n",
    "\n",
    "r = requests.get(API,auth=('sebastiannormann', 'Goatscanfly_2022'))\n",
    "print(r)"
   ]
  },
  {
   "cell_type": "code",
   "execution_count": 192,
   "id": "59911123-f208-45d0-b379-e85871f348a4",
   "metadata": {
    "tags": []
   },
   "outputs": [
    {
     "data": {
      "text/plain": [
       "{'feed': {'xmlns:opensearch': 'http://a9.com/-/spec/opensearch/1.1/',\n",
       "  'xmlns': 'http://www.w3.org/2005/Atom',\n",
       "  'title': 'Sentinels Scientific Data Hub search results for: ingestiondate:[NOW-2DAY TO NOW] AND producttype:S2MSI2A AND footprint:\"Intersects(POLYGON((37.32548632535571 1.8491098129258177,38.06615104713074 1.8491098129258177,38.06615104713074 2.582527953220037,37.32548632535571 2.582527953220037,37.32548632535571 1.8491098129258177)))\"',\n",
       "  'subtitle': 'Displaying 1 results. Request done in 0.005 seconds.',\n",
       "  'updated': '2023-03-21T10:47:58.444Z',\n",
       "  'author': {'name': 'Sentinels Scientific Data Hub'},\n",
       "  'id': 'https://scihub.copernicus.eu/dhus/search?q=ingestiondate:[NOW-2DAY TO NOW] AND producttype:S2MSI2A AND footprint:\"Intersects(POLYGON((37.32548632535571 1.8491098129258177,38.06615104713074 1.8491098129258177,38.06615104713074 2.582527953220037,37.32548632535571 2.582527953220037,37.32548632535571 1.8491098129258177)))\"',\n",
       "  'opensearch:totalResults': '1',\n",
       "  'opensearch:startIndex': '0',\n",
       "  'opensearch:itemsPerPage': '10',\n",
       "  'opensearch:Query': {'role': 'request',\n",
       "   'searchTerms': 'ingestiondate:[NOW-2DAY TO NOW] AND producttype:S2MSI2A AND footprint:\"Intersects(POLYGON((37.32548632535571 1.8491098129258177,38.06615104713074 1.8491098129258177,38.06615104713074 2.582527953220037,37.32548632535571 2.582527953220037,37.32548632535571 1.8491098129258177)))\"',\n",
       "   'startPage': '1'},\n",
       "  'link': [{'rel': 'self',\n",
       "    'type': 'application/json',\n",
       "    'href': 'https://scihub.copernicus.eu/dhus/search?q=ingestiondate:[NOW-2DAY TO NOW] AND producttype:S2MSI2A AND footprint:\"Intersects(POLYGON((37.32548632535571 1.8491098129258177,38.06615104713074 1.8491098129258177,38.06615104713074 2.582527953220037,37.32548632535571 2.582527953220037,37.32548632535571 1.8491098129258177)))\"&start=0&rows=10&format=json'},\n",
       "   {'rel': 'first',\n",
       "    'type': 'application/json',\n",
       "    'href': 'https://scihub.copernicus.eu/dhus/search?q=ingestiondate:[NOW-2DAY TO NOW] AND producttype:S2MSI2A AND footprint:\"Intersects(POLYGON((37.32548632535571 1.8491098129258177,38.06615104713074 1.8491098129258177,38.06615104713074 2.582527953220037,37.32548632535571 2.582527953220037,37.32548632535571 1.8491098129258177)))\"&start=0&rows=10&format=json'},\n",
       "   {'rel': 'last',\n",
       "    'type': 'application/json',\n",
       "    'href': 'https://scihub.copernicus.eu/dhus/search?q=ingestiondate:[NOW-2DAY TO NOW] AND producttype:S2MSI2A AND footprint:\"Intersects(POLYGON((37.32548632535571 1.8491098129258177,38.06615104713074 1.8491098129258177,38.06615104713074 2.582527953220037,37.32548632535571 2.582527953220037,37.32548632535571 1.8491098129258177)))\"&start=0&rows=10&format=json'},\n",
       "   {'rel': 'search',\n",
       "    'type': 'application/opensearchdescription+xml',\n",
       "    'href': 'opensearch_description.xml'}],\n",
       "  'entry': {'title': 'S2A_MSIL2A_20230319T073621_N0509_R092_T37NCC_20230319T111255',\n",
       "   'link': [{'href': \"https://scihub.copernicus.eu/dhus/odata/v1/Products('82e67ce9-1d2e-4d2d-92ae-ccdb485b832d')/$value\"},\n",
       "    {'rel': 'alternative',\n",
       "     'href': \"https://scihub.copernicus.eu/dhus/odata/v1/Products('82e67ce9-1d2e-4d2d-92ae-ccdb485b832d')/\"},\n",
       "    {'rel': 'icon',\n",
       "     'href': \"https://scihub.copernicus.eu/dhus/odata/v1/Products('82e67ce9-1d2e-4d2d-92ae-ccdb485b832d')/Products('Quicklook')/$value\"}],\n",
       "   'id': '82e67ce9-1d2e-4d2d-92ae-ccdb485b832d',\n",
       "   'summary': 'Date: 2023-03-19T07:36:21.024Z, Instrument: MSI, Satellite: Sentinel-2, Size: 995.48 MB',\n",
       "   'ondemand': 'false',\n",
       "   'date': [{'name': 'generationdate', 'content': '2023-03-19T11:12:55Z'},\n",
       "    {'name': 'beginposition', 'content': '2023-03-19T07:36:21.024Z'},\n",
       "    {'name': 'endposition', 'content': '2023-03-19T07:36:21.024Z'},\n",
       "    {'name': 'ingestiondate', 'content': '2023-03-19T13:11:16.313Z'}],\n",
       "   'int': [{'name': 'orbitnumber', 'content': '40415'},\n",
       "    {'name': 'relativeorbitnumber', 'content': '92'}],\n",
       "   'double': [{'name': 'illuminationazimuthangle',\n",
       "     'content': '96.3367941329096'},\n",
       "    {'name': 'illuminationzenithangle', 'content': '24.5867082211312'},\n",
       "    {'name': 'vegetationpercentage', 'content': '0.001135'},\n",
       "    {'name': 'notvegetatedpercentage', 'content': '10.895097'},\n",
       "    {'name': 'waterpercentage', 'content': '5.67E-4'},\n",
       "    {'name': 'unclassifiedpercentage', 'content': '1.093911'},\n",
       "    {'name': 'mediumprobacloudspercentage', 'content': '23.40415'},\n",
       "    {'name': 'highprobacloudspercentage', 'content': '21.016859'},\n",
       "    {'name': 'snowicepercentage', 'content': '0.0'},\n",
       "    {'name': 'cloudcoverpercentage', 'content': '87.663919'}],\n",
       "   'str': [{'name': 'level1cpdiidentifier',\n",
       "     'content': 'S2A_OPER_MSI_L1C_TL_2APS_20230319T092503_A040415_T37NCC_N05.09'},\n",
       "    {'name': 'gmlfootprint',\n",
       "     'content': '<gml:Polygon srsName=\"http://www.opengis.net/gml/srs/epsg.xml#4326\" xmlns:gml=\"http://www.opengis.net/gml\">\\n   <gml:outerBoundaryIs>\\n      <gml:LinearRing>\\n         <gml:coordinates>2.712828867980002,37.2009437938654 2.713900094942792,38.18851847180445 1.720620458966245,38.18905937759979 1.71994158954871,37.20214235599634 2.712828867980002,37.2009437938654</gml:coordinates>\\n      </gml:LinearRing>\\n   </gml:outerBoundaryIs>\\n</gml:Polygon>'},\n",
       "    {'name': 'footprint',\n",
       "     'content': 'MULTIPOLYGON (((37.20214235599634 1.71994158954871, 38.18905937759979 1.720620458966245, 38.18851847180445 2.713900094942792, 37.2009437938654 2.712828867980002, 37.20214235599634 1.71994158954871)))'},\n",
       "    {'name': 'format', 'content': 'SAFE'},\n",
       "    {'name': 'processingbaseline', 'content': '05.09'},\n",
       "    {'name': 'platformname', 'content': 'Sentinel-2'},\n",
       "    {'name': 'filename',\n",
       "     'content': 'S2A_MSIL2A_20230319T073621_N0509_R092_T37NCC_20230319T111255.SAFE'},\n",
       "    {'name': 'instrumentname', 'content': 'Multi-Spectral Instrument'},\n",
       "    {'name': 'instrumentshortname', 'content': 'MSI'},\n",
       "    {'name': 'size', 'content': '995.48 MB'},\n",
       "    {'name': 's2datatakeid', 'content': 'GS2A_20230319T073621_040415_N05.09'},\n",
       "    {'name': 'producttype', 'content': 'S2MSI2A'},\n",
       "    {'name': 'platformidentifier', 'content': '2015-028A'},\n",
       "    {'name': 'orbitdirection', 'content': 'DESCENDING'},\n",
       "    {'name': 'platformserialidentifier', 'content': 'Sentinel-2A'},\n",
       "    {'name': 'processinglevel', 'content': 'Level-2A'},\n",
       "    {'name': 'datastripidentifier',\n",
       "     'content': 'S2A_OPER_MSI_L2A_DS_2APS_20230319T111255_S20230319T075437_N05.09'},\n",
       "    {'name': 'granuleidentifier',\n",
       "     'content': 'S2A_OPER_MSI_L2A_TL_2APS_20230319T111255_A040415_T37NCC_N05.09'},\n",
       "    {'name': 'identifier',\n",
       "     'content': 'S2A_MSIL2A_20230319T073621_N0509_R092_T37NCC_20230319T111255'},\n",
       "    {'name': 'uuid', 'content': '82e67ce9-1d2e-4d2d-92ae-ccdb485b832d'}]}}}"
      ]
     },
     "execution_count": 192,
     "metadata": {},
     "output_type": "execute_result"
    }
   ],
   "source": [
    "#r.headers['content-type']\n",
    "#'application/json; charset=utf8'\n",
    "\n",
    "searchResult = r.json()\n",
    "searchResult"
   ]
  },
  {
   "cell_type": "code",
   "execution_count": 194,
   "id": "9474d7d4-18ed-440a-92d5-86a0654fb2a7",
   "metadata": {
    "tags": []
   },
   "outputs": [
    {
     "data": {
      "text/plain": [
       "{'title': 'S2A_MSIL2A_20230319T073621_N0509_R092_T37NCC_20230319T111255',\n",
       " 'link': [{'href': \"https://scihub.copernicus.eu/dhus/odata/v1/Products('82e67ce9-1d2e-4d2d-92ae-ccdb485b832d')/$value\"},\n",
       "  {'rel': 'alternative',\n",
       "   'href': \"https://scihub.copernicus.eu/dhus/odata/v1/Products('82e67ce9-1d2e-4d2d-92ae-ccdb485b832d')/\"},\n",
       "  {'rel': 'icon',\n",
       "   'href': \"https://scihub.copernicus.eu/dhus/odata/v1/Products('82e67ce9-1d2e-4d2d-92ae-ccdb485b832d')/Products('Quicklook')/$value\"}],\n",
       " 'id': '82e67ce9-1d2e-4d2d-92ae-ccdb485b832d',\n",
       " 'summary': 'Date: 2023-03-19T07:36:21.024Z, Instrument: MSI, Satellite: Sentinel-2, Size: 995.48 MB',\n",
       " 'ondemand': 'false',\n",
       " 'date': [{'name': 'generationdate', 'content': '2023-03-19T11:12:55Z'},\n",
       "  {'name': 'beginposition', 'content': '2023-03-19T07:36:21.024Z'},\n",
       "  {'name': 'endposition', 'content': '2023-03-19T07:36:21.024Z'},\n",
       "  {'name': 'ingestiondate', 'content': '2023-03-19T13:11:16.313Z'}],\n",
       " 'int': [{'name': 'orbitnumber', 'content': '40415'},\n",
       "  {'name': 'relativeorbitnumber', 'content': '92'}],\n",
       " 'double': [{'name': 'illuminationazimuthangle',\n",
       "   'content': '96.3367941329096'},\n",
       "  {'name': 'illuminationzenithangle', 'content': '24.5867082211312'},\n",
       "  {'name': 'vegetationpercentage', 'content': '0.001135'},\n",
       "  {'name': 'notvegetatedpercentage', 'content': '10.895097'},\n",
       "  {'name': 'waterpercentage', 'content': '5.67E-4'},\n",
       "  {'name': 'unclassifiedpercentage', 'content': '1.093911'},\n",
       "  {'name': 'mediumprobacloudspercentage', 'content': '23.40415'},\n",
       "  {'name': 'highprobacloudspercentage', 'content': '21.016859'},\n",
       "  {'name': 'snowicepercentage', 'content': '0.0'},\n",
       "  {'name': 'cloudcoverpercentage', 'content': '87.663919'}],\n",
       " 'str': [{'name': 'level1cpdiidentifier',\n",
       "   'content': 'S2A_OPER_MSI_L1C_TL_2APS_20230319T092503_A040415_T37NCC_N05.09'},\n",
       "  {'name': 'gmlfootprint',\n",
       "   'content': '<gml:Polygon srsName=\"http://www.opengis.net/gml/srs/epsg.xml#4326\" xmlns:gml=\"http://www.opengis.net/gml\">\\n   <gml:outerBoundaryIs>\\n      <gml:LinearRing>\\n         <gml:coordinates>2.712828867980002,37.2009437938654 2.713900094942792,38.18851847180445 1.720620458966245,38.18905937759979 1.71994158954871,37.20214235599634 2.712828867980002,37.2009437938654</gml:coordinates>\\n      </gml:LinearRing>\\n   </gml:outerBoundaryIs>\\n</gml:Polygon>'},\n",
       "  {'name': 'footprint',\n",
       "   'content': 'MULTIPOLYGON (((37.20214235599634 1.71994158954871, 38.18905937759979 1.720620458966245, 38.18851847180445 2.713900094942792, 37.2009437938654 2.712828867980002, 37.20214235599634 1.71994158954871)))'},\n",
       "  {'name': 'format', 'content': 'SAFE'},\n",
       "  {'name': 'processingbaseline', 'content': '05.09'},\n",
       "  {'name': 'platformname', 'content': 'Sentinel-2'},\n",
       "  {'name': 'filename',\n",
       "   'content': 'S2A_MSIL2A_20230319T073621_N0509_R092_T37NCC_20230319T111255.SAFE'},\n",
       "  {'name': 'instrumentname', 'content': 'Multi-Spectral Instrument'},\n",
       "  {'name': 'instrumentshortname', 'content': 'MSI'},\n",
       "  {'name': 'size', 'content': '995.48 MB'},\n",
       "  {'name': 's2datatakeid', 'content': 'GS2A_20230319T073621_040415_N05.09'},\n",
       "  {'name': 'producttype', 'content': 'S2MSI2A'},\n",
       "  {'name': 'platformidentifier', 'content': '2015-028A'},\n",
       "  {'name': 'orbitdirection', 'content': 'DESCENDING'},\n",
       "  {'name': 'platformserialidentifier', 'content': 'Sentinel-2A'},\n",
       "  {'name': 'processinglevel', 'content': 'Level-2A'},\n",
       "  {'name': 'datastripidentifier',\n",
       "   'content': 'S2A_OPER_MSI_L2A_DS_2APS_20230319T111255_S20230319T075437_N05.09'},\n",
       "  {'name': 'granuleidentifier',\n",
       "   'content': 'S2A_OPER_MSI_L2A_TL_2APS_20230319T111255_A040415_T37NCC_N05.09'},\n",
       "  {'name': 'identifier',\n",
       "   'content': 'S2A_MSIL2A_20230319T073621_N0509_R092_T37NCC_20230319T111255'},\n",
       "  {'name': 'uuid', 'content': '82e67ce9-1d2e-4d2d-92ae-ccdb485b832d'}]}"
      ]
     },
     "execution_count": 194,
     "metadata": {},
     "output_type": "execute_result"
    }
   ],
   "source": [
    "#searchResult\n",
    "searchResult['feed']['entry']\n",
    "#for name in searchResult['feed']['entry']:\n",
    "#    print(name['title'])"
   ]
  },
  {
   "cell_type": "code",
   "execution_count": 201,
   "id": "a4d9831a-db5e-4fe8-b837-35b72574d9ee",
   "metadata": {
    "tags": []
   },
   "outputs": [],
   "source": [
    "#fileName = searchResult['feed']['entry'][1]['title']\n",
    "#downloadLink = searchResult['feed']['entry'][1]['link'][0]['href']\n",
    "fileName = searchResult['feed']['entry']['title']\n",
    "downloadLink = searchResult['feed']['entry']['link'][0]['href']"
   ]
  },
  {
   "cell_type": "code",
   "execution_count": 202,
   "id": "64ce3e01-ee63-4c7e-a044-929de9a4f4ee",
   "metadata": {},
   "outputs": [],
   "source": [
    "file = requests.get(downloadLink,auth=('sebastiannormann', 'Goatscanfly_2022'))"
   ]
  },
  {
   "cell_type": "code",
   "execution_count": 203,
   "id": "0cf7839f-8c8c-4eaf-9caf-66e530d3a700",
   "metadata": {
    "tags": []
   },
   "outputs": [
    {
     "data": {
      "text/plain": [
       "<Response [200]>"
      ]
     },
     "execution_count": 203,
     "metadata": {},
     "output_type": "execute_result"
    }
   ],
   "source": [
    "file"
   ]
  },
  {
   "cell_type": "code",
   "execution_count": 204,
   "id": "28e2038a-c1f9-498f-834f-88ba946c8d1c",
   "metadata": {
    "tags": []
   },
   "outputs": [],
   "source": [
    "# save file\n",
    "with open('satData/'+fileName+'.zip','wb') as f:\n",
    "    f.write(file.content)"
   ]
  },
  {
   "cell_type": "code",
   "execution_count": 205,
   "id": "60a4b860-dd01-4166-8709-44f1cdcc2eff",
   "metadata": {
    "tags": []
   },
   "outputs": [],
   "source": [
    "# unzip file\n",
    "from zipfile import ZipFile\n",
    "\n",
    "with ZipFile(\"satData/\"+fileName+\".zip\", 'r') as zObject:\n",
    "    zObject.extractall(\n",
    "      path=\"satData/\")"
   ]
  },
  {
   "cell_type": "code",
   "execution_count": null,
   "id": "835b252f-02a0-4b7a-a300-921c531dd8fb",
   "metadata": {},
   "outputs": [],
   "source": []
  }
 ],
 "metadata": {
  "kernelspec": {
   "display_name": "Python 3 (ipykernel)",
   "language": "python",
   "name": "python3"
  },
  "language_info": {
   "codemirror_mode": {
    "name": "ipython",
    "version": 3
   },
   "file_extension": ".py",
   "mimetype": "text/x-python",
   "name": "python",
   "nbconvert_exporter": "python",
   "pygments_lexer": "ipython3",
   "version": "3.10.9"
  }
 },
 "nbformat": 4,
 "nbformat_minor": 5
}
