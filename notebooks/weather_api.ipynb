{
 "cells": [
  {
   "cell_type": "code",
   "execution_count": 22,
   "id": "7ddac819-57f3-4ea5-a545-45522f42b8ca",
   "metadata": {
    "tags": []
   },
   "outputs": [],
   "source": [
    "import requests\n",
    "# coords of ngurunit\n",
    "LatLng = '37.30488%2C01.85034'\n",
    "API = 'https://weather.visualcrossing.com/VisualCrossingWebServices/rest/services/timeline/'+LatLng+'/last7days?unitGroup=metric&elements=datetime%2CdatetimeEpoch%2Cname%2Caddress%2CresolvedAddress%2Clatitude%2Clongitude%2Ctempmax%2Ctempmin%2Ctemp%2Chumidity%2Cprecip%2Cprecipcover%2Cpreciptype%2Cstations%2Csource%2Cet0&key=KXFZZTKA2UQEA2DQTX98EN7CE&contentType=json'\n",
    "#API = 'https://weather.visualcrossing.com/VisualCrossingWebServices/rest/services/timeline/37.30488%2C%201.85034/last7days?unitGroup=metric&elements=datetime%2CdatetimeEpoch%2Cname%2Caddress%2CresolvedAddress%2Clatitude%2Clongitude%2Ctempmax%2Ctempmin%2Ctemp%2Chumidity%2Cprecip%2Cprecipcover%2Cpreciptype%2Cstations%2Csource%2Cet0&key=KXFZZTKA2UQEA2DQTX98EN7CE&contentType=json'\n",
    "r = requests.get(API)"
   ]
  },
  {
   "cell_type": "code",
   "execution_count": 23,
   "id": "a41081af-f60b-4d5c-9696-9d85750615d0",
   "metadata": {
    "tags": []
   },
   "outputs": [
    {
     "data": {
      "text/plain": [
       "'application/json; charset=utf8'"
      ]
     },
     "execution_count": 23,
     "metadata": {},
     "output_type": "execute_result"
    }
   ],
   "source": [
    " r.headers['content-type']\n",
    "'application/json; charset=utf8'"
   ]
  },
  {
   "cell_type": "code",
   "execution_count": 24,
   "id": "27ffee70-333d-4836-8321-118c76396559",
   "metadata": {
    "tags": []
   },
   "outputs": [],
   "source": [
    "jsonData = r.json()"
   ]
  },
  {
   "cell_type": "code",
   "execution_count": 25,
   "id": "20e87948-a844-4477-b068-af4e937813d2",
   "metadata": {
    "tags": []
   },
   "outputs": [],
   "source": [
    "import pandas as pd\n",
    "\n",
    "date = []\n",
    "temp = []\n",
    "precip = []\n",
    "\n",
    "for days in jsonData['days']:\n",
    "    date.append(days['datetime'])\n",
    "    temp.append(days['temp'])\n",
    "    precip.append(days['precip'])\n",
    "    #print (days)\n",
    "#jsonData['days'][1]['temp']\n",
    "\n",
    "weather_list = list(zip(date,temp,precip))\n",
    "\n",
    "weather = pd.DataFrame(weather_list, columns = ['date','temp_C','precip_mm'])"
   ]
  },
  {
   "cell_type": "code",
   "execution_count": 26,
   "id": "e56e320d-77bf-4b85-955c-93b79f91178d",
   "metadata": {
    "tags": []
   },
   "outputs": [
    {
     "data": {
      "text/html": [
       "<div>\n",
       "<style scoped>\n",
       "    .dataframe tbody tr th:only-of-type {\n",
       "        vertical-align: middle;\n",
       "    }\n",
       "\n",
       "    .dataframe tbody tr th {\n",
       "        vertical-align: top;\n",
       "    }\n",
       "\n",
       "    .dataframe thead th {\n",
       "        text-align: right;\n",
       "    }\n",
       "</style>\n",
       "<table border=\"1\" class=\"dataframe\">\n",
       "  <thead>\n",
       "    <tr style=\"text-align: right;\">\n",
       "      <th></th>\n",
       "      <th>date</th>\n",
       "      <th>temp_C</th>\n",
       "      <th>precip_mm</th>\n",
       "    </tr>\n",
       "  </thead>\n",
       "  <tbody>\n",
       "    <tr>\n",
       "      <th>0</th>\n",
       "      <td>2023-03-13</td>\n",
       "      <td>16.3</td>\n",
       "      <td>0.0</td>\n",
       "    </tr>\n",
       "    <tr>\n",
       "      <th>1</th>\n",
       "      <td>2023-03-14</td>\n",
       "      <td>16.0</td>\n",
       "      <td>0.0</td>\n",
       "    </tr>\n",
       "    <tr>\n",
       "      <th>2</th>\n",
       "      <td>2023-03-15</td>\n",
       "      <td>15.5</td>\n",
       "      <td>0.0</td>\n",
       "    </tr>\n",
       "    <tr>\n",
       "      <th>3</th>\n",
       "      <td>2023-03-16</td>\n",
       "      <td>16.0</td>\n",
       "      <td>0.0</td>\n",
       "    </tr>\n",
       "    <tr>\n",
       "      <th>4</th>\n",
       "      <td>2023-03-17</td>\n",
       "      <td>15.8</td>\n",
       "      <td>0.0</td>\n",
       "    </tr>\n",
       "    <tr>\n",
       "      <th>5</th>\n",
       "      <td>2023-03-18</td>\n",
       "      <td>15.7</td>\n",
       "      <td>0.3</td>\n",
       "    </tr>\n",
       "    <tr>\n",
       "      <th>6</th>\n",
       "      <td>2023-03-19</td>\n",
       "      <td>15.2</td>\n",
       "      <td>0.0</td>\n",
       "    </tr>\n",
       "    <tr>\n",
       "      <th>7</th>\n",
       "      <td>2023-03-20</td>\n",
       "      <td>14.8</td>\n",
       "      <td>0.0</td>\n",
       "    </tr>\n",
       "  </tbody>\n",
       "</table>\n",
       "</div>"
      ],
      "text/plain": [
       "         date  temp_C  precip_mm\n",
       "0  2023-03-13    16.3        0.0\n",
       "1  2023-03-14    16.0        0.0\n",
       "2  2023-03-15    15.5        0.0\n",
       "3  2023-03-16    16.0        0.0\n",
       "4  2023-03-17    15.8        0.0\n",
       "5  2023-03-18    15.7        0.3\n",
       "6  2023-03-19    15.2        0.0\n",
       "7  2023-03-20    14.8        0.0"
      ]
     },
     "execution_count": 26,
     "metadata": {},
     "output_type": "execute_result"
    }
   ],
   "source": [
    "weather"
   ]
  },
  {
   "cell_type": "code",
   "execution_count": null,
   "id": "28736261-180b-4c45-a97c-cf2322618460",
   "metadata": {},
   "outputs": [],
   "source": []
  },
  {
   "cell_type": "code",
   "execution_count": 27,
   "id": "e2c98b0a-ab86-4152-9895-6282d0059429",
   "metadata": {
    "tags": []
   },
   "outputs": [
    {
     "data": {
      "text/plain": [
       "<Figure size 640x480 with 0 Axes>"
      ]
     },
     "metadata": {},
     "output_type": "display_data"
    },
    {
     "data": {
      "image/png": "[encoded data removed]",
      "text/plain": [
       "<Figure size 640x480 with 1 Axes>"
      ]
     },
     "metadata": {},
     "output_type": "display_data"
    }
   ],
   "source": [
    "import matplotlib.pyplot as plt\n",
    "# plot temp and precip of last 30 days\n",
    "plt.figure();\n",
    "weather.plot();"
   ]
  },
  {
   "cell_type": "code",
   "execution_count": null,
   "id": "37e5922c-723b-450a-8c2a-42b1ae68a81c",
   "metadata": {},
   "outputs": [],
   "source": []
  },
  {
   "cell_type": "code",
   "execution_count": null,
   "id": "903128e7-453c-47c8-836b-e16a1c021596",
   "metadata": {},
   "outputs": [],
   "source": []
  }
 ],
 "metadata": {
  "kernelspec": {
   "display_name": "Python 3 (ipykernel)",
   "language": "python",
   "name": "python3"
  },
  "language_info": {
   "codemirror_mode": {
    "name": "ipython",
    "version": 3
   },
   "file_extension": ".py",
   "mimetype": "text/x-python",
   "name": "python",
   "nbconvert_exporter": "python",
   "pygments_lexer": "ipython3",
   "version": "3.10.9"
  }
 },
 "nbformat": 4,
 "nbformat_minor": 5
}
