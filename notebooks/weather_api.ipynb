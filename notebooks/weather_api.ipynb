{
 "cells": [
  {
   "cell_type": "code",
   "execution_count": 53,
   "id": "7ddac819-57f3-4ea5-a545-45522f42b8ca",
   "metadata": {
    "tags": []
   },
   "outputs": [],
   "source": [
    "import requests\n",
    "# coords of ngurunit\n",
    "lat = '37.30488'\n",
    "lng = '01.85034'\n",
    "#API = 'https://weather.visualcrossing.com/VisualCrossingWebServices/rest/services/timeline/'+lat+'#%2C%2'+lng+'/last30days?unitGroup=metric&elements=datetime%2CdatetimeEpoch%2Cname%2Caddress%2CresolvedAddress%2Clatitude%2Clongitude%2Ctempmax%2Ctempmin%2Ctemp%2Chumidity%2Cprecip%2Cprecipcover%2Cpreciptype%2Cstations%2Csource%2Cet0&key=KXFZZTKA2UQEA2DQTX98EN7CE&contentType=json'\n",
    "API = 'https://weather.visualcrossing.com/VisualCrossingWebServices/rest/services/timeline/37.30488%2C%201.85034/last30days?unitGroup=metric&elements=datetime%2CdatetimeEpoch%2Cname%2Caddress%2CresolvedAddress%2Clatitude%2Clongitude%2Ctempmax%2Ctempmin%2Ctemp%2Chumidity%2Cprecip%2Cprecipcover%2Cpreciptype%2Cstations%2Csource%2Cet0&key=KXFZZTKA2UQEA2DQTX98EN7CE&contentType=json'\n",
    "r = requests.get(API)"
   ]
  },
  {
   "cell_type": "code",
   "execution_count": 54,
   "id": "a41081af-f60b-4d5c-9696-9d85750615d0",
   "metadata": {
    "tags": []
   },
   "outputs": [
    {
     "data": {
      "text/plain": [
       "'application/json; charset=utf8'"
      ]
     },
     "execution_count": 54,
     "metadata": {},
     "output_type": "execute_result"
    }
   ],
   "source": [
    " r.headers['content-type']\n",
    "'application/json; charset=utf8'"
   ]
  },
  {
   "cell_type": "code",
   "execution_count": 56,
   "id": "27ffee70-333d-4836-8321-118c76396559",
   "metadata": {
    "tags": []
   },
   "outputs": [
    {
     "data": {
      "text/plain": [
       "<Response [401]>"
      ]
     },
     "execution_count": 56,
     "metadata": {},
     "output_type": "execute_result"
    }
   ],
   "source": [
    "#jsonData = r.json()\n",
    "r"
   ]
  },
  {
   "cell_type": "code",
   "execution_count": 46,
   "id": "20e87948-a844-4477-b068-af4e937813d2",
   "metadata": {
    "tags": []
   },
   "outputs": [],
   "source": [
    "import pandas as pd\n",
    "\n",
    "date = []\n",
    "temp = []\n",
    "precip = []\n",
    "\n",
    "for days in jsonData['days']:\n",
    "    date.append(days['datetime'])\n",
    "    temp.append(days['temp'])\n",
    "    precip.append(days['precip'])\n",
    "    #print (days)\n",
    "#jsonData['days'][1]['temp']\n",
    "\n",
    "weather_list = list(zip(date,temp,precip))\n",
    "\n",
    "weather = pd.DataFrame(weather_list, columns = ['date','temp_C','precip_mm'])"
   ]
  },
  {
   "cell_type": "code",
   "execution_count": 57,
   "id": "e56e320d-77bf-4b85-955c-93b79f91178d",
   "metadata": {
    "tags": []
   },
   "outputs": [
    {
     "data": {
      "text/html": [
       "<div>\n",
       "<style scoped>\n",
       "    .dataframe tbody tr th:only-of-type {\n",
       "        vertical-align: middle;\n",
       "    }\n",
       "\n",
       "    .dataframe tbody tr th {\n",
       "        vertical-align: top;\n",
       "    }\n",
       "\n",
       "    .dataframe thead th {\n",
       "        text-align: right;\n",
       "    }\n",
       "</style>\n",
       "<table border=\"1\" class=\"dataframe\">\n",
       "  <thead>\n",
       "    <tr style=\"text-align: right;\">\n",
       "      <th></th>\n",
       "      <th>date</th>\n",
       "      <th>temp_C</th>\n",
       "      <th>precip_mm</th>\n",
       "    </tr>\n",
       "  </thead>\n",
       "  <tbody>\n",
       "    <tr>\n",
       "      <th>0</th>\n",
       "      <td>2023-02-14</td>\n",
       "      <td>14.7</td>\n",
       "      <td>0.0</td>\n",
       "    </tr>\n",
       "    <tr>\n",
       "      <th>1</th>\n",
       "      <td>2023-02-15</td>\n",
       "      <td>15.0</td>\n",
       "      <td>0.0</td>\n",
       "    </tr>\n",
       "    <tr>\n",
       "      <th>2</th>\n",
       "      <td>2023-02-16</td>\n",
       "      <td>15.0</td>\n",
       "      <td>0.0</td>\n",
       "    </tr>\n",
       "    <tr>\n",
       "      <th>3</th>\n",
       "      <td>2023-02-17</td>\n",
       "      <td>14.3</td>\n",
       "      <td>0.0</td>\n",
       "    </tr>\n",
       "    <tr>\n",
       "      <th>4</th>\n",
       "      <td>2023-02-18</td>\n",
       "      <td>14.2</td>\n",
       "      <td>0.0</td>\n",
       "    </tr>\n",
       "    <tr>\n",
       "      <th>5</th>\n",
       "      <td>2023-02-19</td>\n",
       "      <td>14.5</td>\n",
       "      <td>0.0</td>\n",
       "    </tr>\n",
       "    <tr>\n",
       "      <th>6</th>\n",
       "      <td>2023-02-20</td>\n",
       "      <td>14.9</td>\n",
       "      <td>0.0</td>\n",
       "    </tr>\n",
       "    <tr>\n",
       "      <th>7</th>\n",
       "      <td>2023-02-21</td>\n",
       "      <td>15.8</td>\n",
       "      <td>0.0</td>\n",
       "    </tr>\n",
       "    <tr>\n",
       "      <th>8</th>\n",
       "      <td>2023-02-22</td>\n",
       "      <td>13.7</td>\n",
       "      <td>0.0</td>\n",
       "    </tr>\n",
       "    <tr>\n",
       "      <th>9</th>\n",
       "      <td>2023-02-23</td>\n",
       "      <td>14.8</td>\n",
       "      <td>0.0</td>\n",
       "    </tr>\n",
       "    <tr>\n",
       "      <th>10</th>\n",
       "      <td>2023-02-24</td>\n",
       "      <td>14.7</td>\n",
       "      <td>18.3</td>\n",
       "    </tr>\n",
       "    <tr>\n",
       "      <th>11</th>\n",
       "      <td>2023-02-25</td>\n",
       "      <td>12.5</td>\n",
       "      <td>3.9</td>\n",
       "    </tr>\n",
       "    <tr>\n",
       "      <th>12</th>\n",
       "      <td>2023-02-26</td>\n",
       "      <td>12.9</td>\n",
       "      <td>0.3</td>\n",
       "    </tr>\n",
       "    <tr>\n",
       "      <th>13</th>\n",
       "      <td>2023-02-27</td>\n",
       "      <td>11.0</td>\n",
       "      <td>0.1</td>\n",
       "    </tr>\n",
       "    <tr>\n",
       "      <th>14</th>\n",
       "      <td>2023-02-28</td>\n",
       "      <td>11.0</td>\n",
       "      <td>2.4</td>\n",
       "    </tr>\n",
       "    <tr>\n",
       "      <th>15</th>\n",
       "      <td>2023-03-01</td>\n",
       "      <td>11.9</td>\n",
       "      <td>3.1</td>\n",
       "    </tr>\n",
       "    <tr>\n",
       "      <th>16</th>\n",
       "      <td>2023-03-02</td>\n",
       "      <td>11.1</td>\n",
       "      <td>5.0</td>\n",
       "    </tr>\n",
       "    <tr>\n",
       "      <th>17</th>\n",
       "      <td>2023-03-03</td>\n",
       "      <td>12.2</td>\n",
       "      <td>1.3</td>\n",
       "    </tr>\n",
       "    <tr>\n",
       "      <th>18</th>\n",
       "      <td>2023-03-04</td>\n",
       "      <td>12.9</td>\n",
       "      <td>0.0</td>\n",
       "    </tr>\n",
       "    <tr>\n",
       "      <th>19</th>\n",
       "      <td>2023-03-05</td>\n",
       "      <td>13.7</td>\n",
       "      <td>0.0</td>\n",
       "    </tr>\n",
       "    <tr>\n",
       "      <th>20</th>\n",
       "      <td>2023-03-06</td>\n",
       "      <td>14.7</td>\n",
       "      <td>0.9</td>\n",
       "    </tr>\n",
       "    <tr>\n",
       "      <th>21</th>\n",
       "      <td>2023-03-07</td>\n",
       "      <td>15.4</td>\n",
       "      <td>0.0</td>\n",
       "    </tr>\n",
       "    <tr>\n",
       "      <th>22</th>\n",
       "      <td>2023-03-08</td>\n",
       "      <td>15.7</td>\n",
       "      <td>0.0</td>\n",
       "    </tr>\n",
       "    <tr>\n",
       "      <th>23</th>\n",
       "      <td>2023-03-09</td>\n",
       "      <td>16.0</td>\n",
       "      <td>0.0</td>\n",
       "    </tr>\n",
       "    <tr>\n",
       "      <th>24</th>\n",
       "      <td>2023-03-10</td>\n",
       "      <td>15.9</td>\n",
       "      <td>0.0</td>\n",
       "    </tr>\n",
       "    <tr>\n",
       "      <th>25</th>\n",
       "      <td>2023-03-11</td>\n",
       "      <td>16.2</td>\n",
       "      <td>0.0</td>\n",
       "    </tr>\n",
       "    <tr>\n",
       "      <th>26</th>\n",
       "      <td>2023-03-12</td>\n",
       "      <td>16.0</td>\n",
       "      <td>0.0</td>\n",
       "    </tr>\n",
       "    <tr>\n",
       "      <th>27</th>\n",
       "      <td>2023-03-13</td>\n",
       "      <td>16.3</td>\n",
       "      <td>0.0</td>\n",
       "    </tr>\n",
       "    <tr>\n",
       "      <th>28</th>\n",
       "      <td>2023-03-14</td>\n",
       "      <td>16.0</td>\n",
       "      <td>0.0</td>\n",
       "    </tr>\n",
       "    <tr>\n",
       "      <th>29</th>\n",
       "      <td>2023-03-15</td>\n",
       "      <td>15.5</td>\n",
       "      <td>0.0</td>\n",
       "    </tr>\n",
       "    <tr>\n",
       "      <th>30</th>\n",
       "      <td>2023-03-16</td>\n",
       "      <td>16.0</td>\n",
       "      <td>0.0</td>\n",
       "    </tr>\n",
       "  </tbody>\n",
       "</table>\n",
       "</div>"
      ],
      "text/plain": [
       "          date  temp_C  precip_mm\n",
       "0   2023-02-14    14.7        0.0\n",
       "1   2023-02-15    15.0        0.0\n",
       "2   2023-02-16    15.0        0.0\n",
       "3   2023-02-17    14.3        0.0\n",
       "4   2023-02-18    14.2        0.0\n",
       "5   2023-02-19    14.5        0.0\n",
       "6   2023-02-20    14.9        0.0\n",
       "7   2023-02-21    15.8        0.0\n",
       "8   2023-02-22    13.7        0.0\n",
       "9   2023-02-23    14.8        0.0\n",
       "10  2023-02-24    14.7       18.3\n",
       "11  2023-02-25    12.5        3.9\n",
       "12  2023-02-26    12.9        0.3\n",
       "13  2023-02-27    11.0        0.1\n",
       "14  2023-02-28    11.0        2.4\n",
       "15  2023-03-01    11.9        3.1\n",
       "16  2023-03-02    11.1        5.0\n",
       "17  2023-03-03    12.2        1.3\n",
       "18  2023-03-04    12.9        0.0\n",
       "19  2023-03-05    13.7        0.0\n",
       "20  2023-03-06    14.7        0.9\n",
       "21  2023-03-07    15.4        0.0\n",
       "22  2023-03-08    15.7        0.0\n",
       "23  2023-03-09    16.0        0.0\n",
       "24  2023-03-10    15.9        0.0\n",
       "25  2023-03-11    16.2        0.0\n",
       "26  2023-03-12    16.0        0.0\n",
       "27  2023-03-13    16.3        0.0\n",
       "28  2023-03-14    16.0        0.0\n",
       "29  2023-03-15    15.5        0.0\n",
       "30  2023-03-16    16.0        0.0"
      ]
     },
     "execution_count": 57,
     "metadata": {},
     "output_type": "execute_result"
    }
   ],
   "source": [
    "weather"
   ]
  },
  {
   "cell_type": "code",
   "execution_count": 65,
   "id": "e2c98b0a-ab86-4152-9895-6282d0059429",
   "metadata": {
    "tags": []
   },
   "outputs": [
    {
     "data": {
      "text/plain": [
       "<Figure size 640x480 with 0 Axes>"
      ]
     },
     "metadata": {},
     "output_type": "display_data"
    },
    {
     "data": {
      "image/png": "[encoded data removed]",
      "text/plain": [
       "<Figure size 640x480 with 1 Axes>"
      ]
     },
     "metadata": {},
     "output_type": "display_data"
    }
   ],
   "source": [
    "import matplotlib.pyplot as plt\n",
    "# plot temp and precip of last 30 days\n",
    "plt.figure();\n",
    "weather.plot();"
   ]
  },
  {
   "cell_type": "code",
   "execution_count": null,
   "id": "37e5922c-723b-450a-8c2a-42b1ae68a81c",
   "metadata": {},
   "outputs": [],
   "source": []
  },
  {
   "cell_type": "code",
   "execution_count": null,
   "id": "903128e7-453c-47c8-836b-e16a1c021596",
   "metadata": {},
   "outputs": [],
   "source": []
  }
 ],
 "metadata": {
  "kernelspec": {
   "display_name": "Python 3 (ipykernel)",
   "language": "python",
   "name": "python3"
  },
  "language_info": {
   "codemirror_mode": {
    "name": "ipython",
    "version": 3
   },
   "file_extension": ".py",
   "mimetype": "text/x-python",
   "name": "python",
   "nbconvert_exporter": "python",
   "pygments_lexer": "ipython3",
   "version": "3.10.9"
  }
 },
 "nbformat": 4,
 "nbformat_minor": 5
}
